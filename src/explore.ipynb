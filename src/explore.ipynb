{
 "cells": [
  {
   "cell_type": "code",
   "execution_count": null,
   "metadata": {},
   "outputs": [],
   "source": [
    "import os\n",
    "import cv2"
   ]
  },
  {
   "cell_type": "code",
   "execution_count": null,
   "metadata": {},
   "outputs": [],
   "source": [
    "from model import model \n",
    "\n",
    "model_ins = model()\n",
    "model_ins.load(os.getcwd())"
   ]
  },
  {
   "cell_type": "code",
   "execution_count": null,
   "metadata": {},
   "outputs": [],
   "source": [
    "color_class = {'small_vehicle':'r', 'bus':'g', 'medium_vehicle':'b', 'large_vehicle':'c', 'double_trailer_truck':'m', 'container':'y',\n",
    "'pylon':'k', 'small_aircraft':'purple', 'large_aircraft':'brown', 'small_vessel':'orange', 'medium_vessel':'pink', 'large_vessel':'olive',\n",
    "               'heavy_equipment':'tab:olive'}"
   ]
  },
  {
   "cell_type": "code",
   "execution_count": null,
   "metadata": {},
   "outputs": [],
   "source": [
    "from EDA.vis_functions import *\n",
    "from mmrotate.core import eval_rbbox_map,  poly2obb_np\n",
    "\n",
    "import matplotlib.patches as patches\n",
    "import matplotlib.pyplot as plt\n",
    "\n",
    "\n",
    "frame_path=\"../data/patchified_dataset/images/3192_6400_7680__640__0___0.tiff\"\n",
    "img = cv2.imread(frame_path, -1)\n",
    "\n",
    "output = model_ins.predict(img=img)\n",
    "\n",
    "fig, ax = plt.subplots(1, figsize=(15, 15))\n",
    "# Display the image\n",
    "ax.imshow(img, cmap = 'gray')\n",
    "ax.grid(False)\n",
    "\n",
    "for i, cls in enumerate(output):\n",
    "    print(f\"There are {len(cls)} predictions\")\n",
    "    for pred in cls:\n",
    "        (_, x1,y1,x2,y2,x3,y3,x4,y4) = pred\n",
    "        rec_coor = [[x1,y1], [x2,y2], [x3,y3], [x4,y4]]\n",
    "\n",
    "        classcolor = list(color_class.values())[i]\n",
    "\n",
    "        rect = patches.Polygon(rec_coor, linewidth=2.0,\n",
    "                             edgecolor=classcolor, facecolor=\"none\")\n",
    "        ax.add_patch(rect)\n",
    "\n",
    "plt.show()"
   ]
  }
 ],
 "metadata": {
  "kernelspec": {
   "display_name": "Python 3",
   "language": "python",
   "name": "python3"
  },
  "language_info": {
   "codemirror_mode": {
    "name": "ipython",
    "version": 3
   },
   "file_extension": ".py",
   "mimetype": "text/x-python",
   "name": "python",
   "nbconvert_exporter": "python",
   "pygments_lexer": "ipython3",
   "version": "3.8.10"
  },
  "orig_nbformat": 4,
  "vscode": {
   "interpreter": {
    "hash": "916dbcbb3f70747c44a77c7bcd40155683ae19c65e1c03b4aa3499c5328201f1"
   }
  }
 },
 "nbformat": 4,
 "nbformat_minor": 2
}
